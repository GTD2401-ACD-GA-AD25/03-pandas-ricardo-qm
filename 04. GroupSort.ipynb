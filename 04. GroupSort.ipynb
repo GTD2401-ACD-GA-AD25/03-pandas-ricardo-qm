{
  "cells": [
    {
      "cell_type": "markdown",
      "metadata": {},
      "source": [
        "# Agrupamiento y Sorteo\n",
        "\n",
        "En este JNB se revisará el tema de Agrupamiento y Sorteo en Pandas."
      ]
    },
    {
      "cell_type": "code",
      "execution_count": 2,
      "metadata": {
        "id": "O8NoTzxjs2wK",
        "outputId": "fa4bc249-a4fa-48a6-9dc6-7733646ed223"
      },
      "outputs": [],
      "source": [
        "import pandas as pd\n",
        "reviews = pd.read_csv(\"https://raw.githubusercontent.com/GTD2401-ACD-GA-AD25/ACD.datasets.kaggle/refs/heads/main/winemag-data-130k-v2.txt\", index_col=0)\n",
        "pd.set_option(\"display.max_rows\", 5)"
      ]
    },
    {
      "cell_type": "code",
      "execution_count": 6,
      "metadata": {},
      "outputs": [
        {
          "data": {
            "text/plain": [
              "points\n",
              "80     397\n",
              "81     692\n",
              "      ... \n",
              "99      33\n",
              "100     19\n",
              "Name: points, Length: 21, dtype: int64"
            ]
          },
          "execution_count": 6,
          "metadata": {},
          "output_type": "execute_result"
        }
      ],
      "source": [
        "reviews.groupby('points').points.count()"
      ]
    },
    {
      "cell_type": "code",
      "execution_count": 7,
      "metadata": {},
      "outputs": [
        {
          "data": {
            "text/plain": [
              "points\n",
              "80      5.0\n",
              "81      5.0\n",
              "       ... \n",
              "99     44.0\n",
              "100    80.0\n",
              "Name: price, Length: 21, dtype: float64"
            ]
          },
          "execution_count": 7,
          "metadata": {},
          "output_type": "execute_result"
        }
      ],
      "source": [
        "reviews.groupby('points').price.min()"
      ]
    }
  ],
  "metadata": {
    "colab": {
      "include_colab_link": true,
      "provenance": []
    },
    "kernelspec": {
      "display_name": "Python 3",
      "language": "python",
      "name": "python3"
    },
    "language_info": {
      "codemirror_mode": {
        "name": "ipython",
        "version": 3
      },
      "file_extension": ".py",
      "mimetype": "text/x-python",
      "name": "python",
      "nbconvert_exporter": "python",
      "pygments_lexer": "ipython3",
      "version": "3.12.1"
    },
    "orig_nbformat": 4
  },
  "nbformat": 4,
  "nbformat_minor": 0
}
